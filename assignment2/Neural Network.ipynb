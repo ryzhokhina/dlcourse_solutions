{
 "cells": [
  {
   "cell_type": "markdown",
   "metadata": {},
   "source": [
    "# Задание 2.1 - Нейронные сети\n",
    "\n",
    "В этом задании вы реализуете и натренируете настоящую нейроную сеть своими руками!\n",
    "\n",
    "В некотором смысле это будет расширением прошлого задания - нам нужно просто составить несколько линейных классификаторов вместе!\n",
    "\n",
    "<img src=\"https://i.redd.it/n9fgba8b0qr01.png\" alt=\"Stack_more_layers\" width=\"400px\"/>"
   ]
  },
  {
   "cell_type": "code",
   "execution_count": 1,
   "metadata": {},
   "outputs": [],
   "source": [
    "import numpy as np\n",
    "import matplotlib.pyplot as plt\n",
    "\n",
    "%matplotlib inline\n",
    "\n",
    "%load_ext autoreload\n",
    "%autoreload 2"
   ]
  },
  {
   "cell_type": "code",
   "execution_count": 2,
   "metadata": {},
   "outputs": [],
   "source": [
    "from dataset import load_svhn, random_split_train_val\n",
    "from gradient_check import check_layer_gradient, check_layer_param_gradient, check_model_gradient\n",
    "from layers import FullyConnectedLayer, ReLULayer\n",
    "from model import TwoLayerNet\n",
    "from trainer import Trainer, Dataset\n",
    "from optim import SGD, MomentumSGD\n",
    "from metrics import multiclass_accuracy"
   ]
  },
  {
   "cell_type": "markdown",
   "metadata": {},
   "source": [
    "# Загружаем данные\n",
    "\n",
    "И разделяем их на training и validation."
   ]
  },
  {
   "cell_type": "code",
   "execution_count": 5,
   "metadata": {},
   "outputs": [],
   "source": [
    "def prepare_for_neural_network(train_X, test_X):\n",
    "    train_flat = train_X.reshape(train_X.shape[0], -1).astype(np.float) / 255.0\n",
    "    test_flat = test_X.reshape(test_X.shape[0], -1).astype(np.float) / 255.0\n",
    "    \n",
    "    # Subtract mean\n",
    "    mean_image = np.mean(train_flat, axis = 0)\n",
    "    train_flat -= mean_image\n",
    "    test_flat -= mean_image\n",
    "    \n",
    "    return train_flat, test_flat\n",
    "    \n",
    "train_X, train_y, test_X, test_y = load_svhn(\"data\", max_train=10000, max_test=1000)    \n",
    "train_X, test_X = prepare_for_neural_network(train_X, test_X)\n",
    "# Split train into train and val\n",
    "train_X, train_y, val_X, val_y = random_split_train_val(train_X, train_y, num_val = 1000)"
   ]
  },
  {
   "cell_type": "markdown",
   "metadata": {},
   "source": [
    "# Как всегда, начинаем с кирпичиков\n",
    "\n",
    "Мы будем реализовывать необходимые нам слои по очереди. Каждый слой должен реализовать:\n",
    "- прямой проход (forward pass), который генерирует выход слоя по входу и запоминает необходимые данные\n",
    "- обратный проход (backward pass), который получает градиент по выходу слоя и вычисляет градиент по входу и по параметрам\n",
    "\n",
    "Начнем с ReLU, у которого параметров нет."
   ]
  },
  {
   "cell_type": "code",
   "execution_count": 6,
   "metadata": {
    "scrolled": false
   },
   "outputs": [
    {
     "name": "stdout",
     "output_type": "stream",
     "text": [
      "Gradient check passed!\n"
     ]
    }
   ],
   "source": [
    "# TODO: Implement ReLULayer layer in layers.py\n",
    "# Note: you'll need to copy implementation of the gradient_check function from the previous assignment\n",
    "\n",
    "X = np.array([[1,-2,3],\n",
    "              [-1, 2, 0.1]\n",
    "              ])\n",
    "\n",
    "assert check_layer_gradient(ReLULayer(), X)"
   ]
  },
  {
   "cell_type": "markdown",
   "metadata": {},
   "source": [
    "А теперь реализуем полносвязный слой (fully connected layer), у которого будет два массива параметров: W (weights) и B (bias).\n",
    "\n",
    "Все параметры наши слои будут использовать для параметров специальный класс `Param`, в котором будут храниться значения параметров и градиенты этих параметров, вычисляемые во время обратного прохода.\n",
    "\n",
    "Это даст возможность аккумулировать (суммировать) градиенты из разных частей функции потерь, например, из cross-entropy loss и regularization loss."
   ]
  },
  {
   "cell_type": "code",
   "execution_count": 7,
   "metadata": {},
   "outputs": [
    {
     "name": "stdout",
     "output_type": "stream",
     "text": [
      "Gradient check passed!\n",
      "Gradient check passed!\n",
      "Gradient check passed!\n"
     ]
    }
   ],
   "source": [
    "# TODO: Implement FullyConnected layer forward and backward methods\n",
    "assert check_layer_gradient(FullyConnectedLayer(3, 4), X)\n",
    "# TODO: Implement storing gradients for W and B\n",
    "assert check_layer_param_gradient(FullyConnectedLayer(3, 4), X, 'W')\n",
    "assert check_layer_param_gradient(FullyConnectedLayer(3, 4), X, 'B')"
   ]
  },
  {
   "cell_type": "markdown",
   "metadata": {},
   "source": [
    "## Создаем нейронную сеть\n",
    "\n",
    "Теперь мы реализуем простейшую нейронную сеть с двумя полносвязным слоями и нелинейностью ReLU. Реализуйте функцию `compute_loss_and_gradients`, она должна запустить прямой и обратный проход через оба слоя для вычисления градиентов.\n",
    "\n",
    "Не забудьте реализовать очистку градиентов в начале функции."
   ]
  },
  {
   "cell_type": "code",
   "execution_count": 8,
   "metadata": {},
   "outputs": [
    {
     "name": "stdout",
     "output_type": "stream",
     "text": [
      "Checking gradient for W1\n",
      "Gradient check passed!\n",
      "Checking gradient for B1\n",
      "Gradient check passed!\n",
      "Checking gradient for W2\n",
      "Gradient check passed!\n",
      "Checking gradient for B2\n",
      "Gradient check passed!\n"
     ]
    },
    {
     "data": {
      "text/plain": [
       "True"
      ]
     },
     "execution_count": 8,
     "metadata": {},
     "output_type": "execute_result"
    }
   ],
   "source": [
    "# TODO: In model.py, implement compute_loss_and_gradients function\n",
    "model = TwoLayerNet(n_input = train_X.shape[1], n_output = 10, hidden_layer_size = 3, reg = 0)\n",
    "loss = model.compute_loss_and_gradients(train_X[:2], train_y[:2])\n",
    "\n",
    "# TODO Now implement backward pass and aggregate all of the params\n",
    "check_model_gradient(model, train_X[:2], train_y[:2])"
   ]
  },
  {
   "cell_type": "code",
   "execution_count": 9,
   "metadata": {},
   "outputs": [
    {
     "data": {
      "text/plain": [
       "2.30062671713171"
      ]
     },
     "execution_count": 9,
     "metadata": {},
     "output_type": "execute_result"
    }
   ],
   "source": [
    "loss"
   ]
  },
  {
   "cell_type": "markdown",
   "metadata": {},
   "source": [
    "Теперь добавьте к модели регуляризацию - она должна прибавляться к loss и делать свой вклад в градиенты."
   ]
  },
  {
   "cell_type": "code",
   "execution_count": 10,
   "metadata": {},
   "outputs": [
    {
     "name": "stdout",
     "output_type": "stream",
     "text": [
      "Checking gradient for W1\n",
      "Gradient check passed!\n",
      "Checking gradient for B1\n",
      "Gradient check passed!\n",
      "Checking gradient for W2\n",
      "Gradient check passed!\n",
      "Checking gradient for B2\n",
      "Gradient check passed!\n"
     ]
    },
    {
     "data": {
      "text/plain": [
       "True"
      ]
     },
     "execution_count": 10,
     "metadata": {},
     "output_type": "execute_result"
    }
   ],
   "source": [
    "# TODO Now implement l2 regularization in the forward and backward pass\n",
    "model_with_reg = TwoLayerNet(n_input = train_X.shape[1], n_output = 10, hidden_layer_size = 3, reg = 1e1)\n",
    "loss_with_reg = model_with_reg.compute_loss_and_gradients(train_X[:2], train_y[:2])\n",
    "assert loss_with_reg > loss and not np.isclose(loss_with_reg, loss), \\\n",
    "    \"Loss with regularization (%2.4f) should be higher than without it (%2.4f)!\" % (loss, loss_with_reg)\n",
    "\n",
    "check_model_gradient(model_with_reg, train_X[:2], train_y[:2])"
   ]
  },
  {
   "cell_type": "code",
   "execution_count": 11,
   "metadata": {},
   "outputs": [
    {
     "data": {
      "text/plain": [
       "2.39376835938139"
      ]
     },
     "execution_count": 11,
     "metadata": {},
     "output_type": "execute_result"
    }
   ],
   "source": [
    "loss_with_reg"
   ]
  },
  {
   "cell_type": "markdown",
   "metadata": {},
   "source": [
    "Также реализуем функцию предсказания (вычисления значения) модели на новых данных.\n",
    "\n",
    "Какое значение точности мы ожидаем увидеть до начала тренировки?"
   ]
  },
  {
   "cell_type": "code",
   "execution_count": 12,
   "metadata": {},
   "outputs": [
    {
     "name": "stdout",
     "output_type": "stream",
     "text": [
      "[2 2 2 2 2 2 2 2 2 2 2 2 2 2 2 2 2 2 2 2 2 2 2 2 2 2 2 2 2 2]\n",
      "0.1\n"
     ]
    }
   ],
   "source": [
    "# Finally, implement predict function!\n",
    "\n",
    "# TODO: Implement predict function\n",
    "# What would be the value we expect?\n",
    "\n",
    "predict = model_with_reg.predict(train_X[:30])\n",
    "accuracy = multiclass_accuracy(predict, train_y[:30]) \n",
    "print(predict)\n",
    "print(accuracy)"
   ]
  },
  {
   "cell_type": "code",
   "execution_count": 13,
   "metadata": {},
   "outputs": [
    {
     "data": {
      "text/plain": [
       "array([9, 9, 2, 1, 7, 1, 3, 5, 3, 6, 4, 2, 9, 1, 0, 7, 2, 1, 4, 7, 5, 9,\n",
       "       5, 3, 8, 9, 6, 6, 5, 1], dtype=uint8)"
      ]
     },
     "execution_count": 13,
     "metadata": {},
     "output_type": "execute_result"
    }
   ],
   "source": [
    "train_y[:30]"
   ]
  },
  {
   "cell_type": "markdown",
   "metadata": {},
   "source": [
    "# Допишем код для процесса тренировки\n",
    "\n",
    "Если все реализовано корректно, значение функции ошибки должно уменьшаться с каждой эпохой, пусть и медленно. Не беспокойтесь пока про validation accuracy."
   ]
  },
  {
   "cell_type": "code",
   "execution_count": 14,
   "metadata": {},
   "outputs": [
    {
     "name": "stdout",
     "output_type": "stream",
     "text": [
      "Loss: 2.217057, Train accuracy: 0.196667, val accuracy: 0.206000\n",
      "Loss: 2.157437, Train accuracy: 0.196667, val accuracy: 0.206000\n",
      "Loss: 2.115648, Train accuracy: 0.196667, val accuracy: 0.206000\n",
      "Loss: 2.287707, Train accuracy: 0.196667, val accuracy: 0.206000\n",
      "Loss: 2.176635, Train accuracy: 0.196667, val accuracy: 0.206000\n",
      "Loss: 2.070778, Train accuracy: 0.196667, val accuracy: 0.206000\n",
      "Loss: 2.389343, Train accuracy: 0.196667, val accuracy: 0.206000\n",
      "Loss: 2.201810, Train accuracy: 0.196667, val accuracy: 0.206000\n",
      "Loss: 2.268138, Train accuracy: 0.196667, val accuracy: 0.206000\n",
      "Loss: 2.177243, Train accuracy: 0.196667, val accuracy: 0.206000\n",
      "Loss: 2.188959, Train accuracy: 0.196667, val accuracy: 0.206000\n",
      "Loss: 2.288565, Train accuracy: 0.196667, val accuracy: 0.206000\n",
      "Loss: 2.324022, Train accuracy: 0.196667, val accuracy: 0.206000\n",
      "Loss: 2.277031, Train accuracy: 0.196667, val accuracy: 0.206000\n",
      "Loss: 2.376680, Train accuracy: 0.196667, val accuracy: 0.206000\n",
      "Loss: 2.181966, Train accuracy: 0.196667, val accuracy: 0.206000\n",
      "Loss: 2.288749, Train accuracy: 0.196667, val accuracy: 0.206000\n",
      "Loss: 2.281310, Train accuracy: 0.196667, val accuracy: 0.206000\n",
      "Loss: 2.245181, Train accuracy: 0.196667, val accuracy: 0.206000\n",
      "Loss: 2.235221, Train accuracy: 0.196667, val accuracy: 0.206000\n"
     ]
    }
   ],
   "source": [
    "model = TwoLayerNet(n_input = train_X.shape[1], n_output = 10, hidden_layer_size = 100, reg = 1e1)\n",
    "dataset = Dataset(train_X, train_y, val_X, val_y)\n",
    "trainer = Trainer(model, dataset, SGD(), learning_rate = 1e-2)\n",
    "\n",
    "# TODO Implement missing pieces in Trainer.fit function\n",
    "# You should expect loss to go down every epoch, even if it's slow\n",
    "loss_history, train_history, val_history = trainer.fit()"
   ]
  },
  {
   "cell_type": "code",
   "execution_count": 16,
   "metadata": {},
   "outputs": [
    {
     "data": {
      "text/plain": [
       "[<matplotlib.lines.Line2D at 0x1e8df6457f0>]"
      ]
     },
     "execution_count": 16,
     "metadata": {},
     "output_type": "execute_result"
    },
    {
     "data": {
      "image/png": "[encoded data removed]",
      "text/plain": [
       "<Figure size 432x288 with 1 Axes>"
      ]
     },
     "metadata": {
      "needs_background": "light"
     },
     "output_type": "display_data"
    }
   ],
   "source": [
    "plt.plot(train_history)\n",
    "plt.plot(val_history)"
   ]
  },
  {
   "cell_type": "code",
   "execution_count": 17,
   "metadata": {},
   "outputs": [
    {
     "data": {
      "text/plain": [
       "[<matplotlib.lines.Line2D at 0x1e8df6a0d30>]"
      ]
     },
     "execution_count": 17,
     "metadata": {},
     "output_type": "execute_result"
    },
    {
     "data": {
      "image/png": "[encoded data removed]",
      "text/plain": [
       "<Figure size 432x288 with 1 Axes>"
      ]
     },
     "metadata": {
      "needs_background": "light"
     },
     "output_type": "display_data"
    }
   ],
   "source": [
    "plt.plot(loss_history)"
   ]
  },
  {
   "cell_type": "code",
   "execution_count": 18,
   "metadata": {},
   "outputs": [
    {
     "data": {
      "text/plain": [
       "[2.293779475027057,\n",
       " 2.2446574973160707,\n",
       " 2.2341269995546558,\n",
       " 2.23053063846768,\n",
       " 2.229210084825938,\n",
       " 2.2286825538236155,\n",
       " 2.228488236029909,\n",
       " 2.2283866320264107,\n",
       " 2.228343289791631,\n",
       " 2.2283223205455633,\n",
       " 2.228299402938629,\n",
       " 2.228299378834099,\n",
       " 2.228289790777959,\n",
       " 2.228297508772213,\n",
       " 2.228294507159288,\n",
       " 2.228292236965843,\n",
       " 2.2282864044611386,\n",
       " 2.2282931111865123,\n",
       " 2.228294168642701,\n",
       " 2.2282980660725706]"
      ]
     },
     "execution_count": 18,
     "metadata": {},
     "output_type": "execute_result"
    }
   ],
   "source": [
    "loss_history"
   ]
  },
  {
   "cell_type": "markdown",
   "metadata": {},
   "source": [
    "# Улучшаем процесс тренировки\n",
    "\n",
    "Мы реализуем несколько ключевых оптимизаций, необходимых для тренировки современных нейросетей."
   ]
  },
  {
   "cell_type": "markdown",
   "metadata": {},
   "source": [
    "## Уменьшение скорости обучения (learning rate decay)\n",
    "\n",
    "Одна из необходимых оптимизаций во время тренировки нейронных сетей - постепенное уменьшение скорости обучения по мере тренировки.\n",
    "\n",
    "Один из стандартных методов - уменьшение скорости обучения (learning rate) каждые N эпох на коэффициент d (часто называемый decay). Значения N и d, как всегда, являются гиперпараметрами и должны подбираться на основе эффективности на проверочных данных (validation data). \n",
    "\n",
    "В нашем случае N будет равным 1."
   ]
  },
  {
   "cell_type": "code",
   "execution_count": 19,
   "metadata": {},
   "outputs": [
    {
     "name": "stdout",
     "output_type": "stream",
     "text": [
      "Loss: 2.250718, Train accuracy: 0.196667, val accuracy: 0.206000\n",
      "Loss: 2.369552, Train accuracy: 0.196667, val accuracy: 0.206000\n",
      "Loss: 2.209789, Train accuracy: 0.196667, val accuracy: 0.206000\n",
      "Loss: 2.258964, Train accuracy: 0.196667, val accuracy: 0.206000\n",
      "Loss: 2.186690, Train accuracy: 0.196667, val accuracy: 0.206000\n",
      "Loss: 2.206852, Train accuracy: 0.196667, val accuracy: 0.206000\n",
      "Loss: 2.121010, Train accuracy: 0.196667, val accuracy: 0.206000\n",
      "Loss: 2.318011, Train accuracy: 0.196667, val accuracy: 0.206000\n",
      "Loss: 2.306481, Train accuracy: 0.196667, val accuracy: 0.206000\n",
      "Loss: 2.283265, Train accuracy: 0.196667, val accuracy: 0.206000\n",
      "Loss: 2.162541, Train accuracy: 0.196667, val accuracy: 0.206000\n",
      "Loss: 2.190528, Train accuracy: 0.201444, val accuracy: 0.209000\n",
      "Loss: 2.418402, Train accuracy: 0.225111, val accuracy: 0.225000\n",
      "Loss: 1.993465, Train accuracy: 0.239444, val accuracy: 0.244000\n",
      "Loss: 2.450466, Train accuracy: 0.261667, val accuracy: 0.260000\n",
      "Loss: 2.124529, Train accuracy: 0.266556, val accuracy: 0.265000\n",
      "Loss: 2.102659, Train accuracy: 0.270778, val accuracy: 0.268000\n",
      "Loss: 2.050869, Train accuracy: 0.277222, val accuracy: 0.274000\n",
      "Loss: 2.023422, Train accuracy: 0.276556, val accuracy: 0.275000\n",
      "Loss: 2.272972, Train accuracy: 0.282333, val accuracy: 0.285000\n"
     ]
    }
   ],
   "source": [
    "# TODO Implement learning rate decay inside Trainer.fit method\n",
    "# Decay should happen once per epoch\n",
    "\n",
    "model = TwoLayerNet(n_input = train_X.shape[1], n_output = 10, hidden_layer_size = 100, reg = 1e-1)\n",
    "dataset = Dataset(train_X, train_y, val_X, val_y)\n",
    "trainer = Trainer(model, dataset, SGD(), learning_rate_decay=0.99)\n",
    "\n",
    "initial_learning_rate = trainer.learning_rate\n",
    "loss_history, train_history, val_history = trainer.fit()\n",
    "\n",
    "assert trainer.learning_rate < initial_learning_rate, \"Learning rate should've been reduced\"\n",
    "assert trainer.learning_rate > 0.5*initial_learning_rate, \"Learning rate shouldn'tve been reduced that much!\""
   ]
  },
  {
   "cell_type": "code",
   "execution_count": 20,
   "metadata": {},
   "outputs": [
    {
     "data": {
      "text/plain": [
       "[<matplotlib.lines.Line2D at 0x1e8df708580>]"
      ]
     },
     "execution_count": 20,
     "metadata": {},
     "output_type": "execute_result"
    },
    {
     "data": {
      "image/png": "[encoded data removed]",
      "text/plain": [
       "<Figure size 432x288 with 1 Axes>"
      ]
     },
     "metadata": {
      "needs_background": "light"
     },
     "output_type": "display_data"
    }
   ],
   "source": [
    "plt.plot(loss_history)"
   ]
  },
  {
   "cell_type": "code",
   "execution_count": 21,
   "metadata": {},
   "outputs": [
    {
     "data": {
      "text/plain": [
       "[<matplotlib.lines.Line2D at 0x1e8df9d31f0>]"
      ]
     },
     "execution_count": 21,
     "metadata": {},
     "output_type": "execute_result"
    },
    {
     "data": {
      "image/png": "[encoded data removed]",
      "text/plain": [
       "<Figure size 432x288 with 1 Axes>"
      ]
     },
     "metadata": {
      "needs_background": "light"
     },
     "output_type": "display_data"
    }
   ],
   "source": [
    "plt.plot(train_history)\n",
    "plt.plot(val_history)"
   ]
  },
  {
   "cell_type": "markdown",
   "metadata": {},
   "source": [
    "# Накопление импульса (Momentum SGD)\n",
    "\n",
    "Другой большой класс оптимизаций - использование более эффективных методов градиентного спуска. Мы реализуем один из них - накопление импульса (Momentum SGD).\n",
    "\n",
    "Этот метод хранит скорость движения, использует градиент для ее изменения на каждом шаге, и изменяет веса пропорционально значению скорости.\n",
    "(Физическая аналогия: Вместо скорости градиенты теперь будут задавать ускорение, но будет присутствовать сила трения.)\n",
    "\n",
    "```\n",
    "velocity = momentum * velocity - learning_rate * gradient \n",
    "w = w + velocity\n",
    "```\n",
    "\n",
    "`momentum` здесь коэффициент затухания, который тоже является гиперпараметром (к счастью, для него часто есть хорошее значение по умолчанию, типичный диапазон -- 0.8-0.99).\n",
    "\n",
    "Несколько полезных ссылок, где метод разбирается более подробно:  \n",
    "http://cs231n.github.io/neural-networks-3/#sgd  \n",
    "https://distill.pub/2017/momentum/"
   ]
  },
  {
   "cell_type": "code",
   "execution_count": 22,
   "metadata": {},
   "outputs": [
    {
     "name": "stdout",
     "output_type": "stream",
     "text": [
      "Loss: 2.193672, Train accuracy: 0.196667, val accuracy: 0.206000\n",
      "Loss: 2.159158, Train accuracy: 0.196667, val accuracy: 0.206000\n",
      "Loss: 2.362453, Train accuracy: 0.196667, val accuracy: 0.206000\n",
      "Loss: 1.954372, Train accuracy: 0.196667, val accuracy: 0.206000\n",
      "Loss: 2.084757, Train accuracy: 0.196667, val accuracy: 0.206000\n",
      "Loss: 2.340643, Train accuracy: 0.196667, val accuracy: 0.206000\n",
      "Loss: 2.123311, Train accuracy: 0.196667, val accuracy: 0.206000\n",
      "Loss: 2.204020, Train accuracy: 0.196667, val accuracy: 0.206000\n",
      "Loss: 2.147330, Train accuracy: 0.196667, val accuracy: 0.206000\n",
      "Loss: 2.206428, Train accuracy: 0.196667, val accuracy: 0.206000\n",
      "Loss: 2.181630, Train accuracy: 0.196667, val accuracy: 0.206000\n",
      "Loss: 2.306145, Train accuracy: 0.196667, val accuracy: 0.206000\n",
      "Loss: 2.141950, Train accuracy: 0.196667, val accuracy: 0.206000\n",
      "Loss: 2.265118, Train accuracy: 0.196667, val accuracy: 0.206000\n",
      "Loss: 2.258113, Train accuracy: 0.196667, val accuracy: 0.206000\n",
      "Loss: 2.221820, Train accuracy: 0.196667, val accuracy: 0.206000\n",
      "Loss: 2.241171, Train accuracy: 0.148222, val accuracy: 0.140000\n",
      "Loss: 2.178813, Train accuracy: 0.196667, val accuracy: 0.206000\n",
      "Loss: 2.147763, Train accuracy: 0.196667, val accuracy: 0.206000\n",
      "Loss: 2.288763, Train accuracy: 0.196667, val accuracy: 0.206000\n"
     ]
    }
   ],
   "source": [
    "# TODO: Implement MomentumSGD.update function in optim.py\n",
    "\n",
    "model = TwoLayerNet(n_input = train_X.shape[1], n_output = 10, hidden_layer_size = 100, reg = 1e-1)\n",
    "dataset = Dataset(train_X, train_y, val_X, val_y)\n",
    "trainer = Trainer(model, dataset, MomentumSGD(0.82), learning_rate=1e-1, learning_rate_decay=0.99)\n",
    "\n",
    "# You should see even better results than before!\n",
    "loss_history, train_history, val_history = trainer.fit()"
   ]
  },
  {
   "cell_type": "markdown",
   "metadata": {},
   "source": [
    "# Ну что, давайте уже тренировать сеть!"
   ]
  },
  {
   "cell_type": "markdown",
   "metadata": {},
   "source": [
    "## Последний тест - переобучимся (overfit) на маленьком наборе данных\n",
    "\n",
    "Хороший способ проверить, все ли реализовано корректно - переобучить сеть на маленьком наборе данных.  \n",
    "Наша модель обладает достаточной мощностью, чтобы приблизить маленький набор данных идеально, поэтому мы ожидаем, что на нем мы быстро дойдем до 100% точности на тренировочном наборе. \n",
    "\n",
    "Если этого не происходит, то где-то была допущена ошибка!"
   ]
  },
  {
   "cell_type": "code",
   "execution_count": 23,
   "metadata": {},
   "outputs": [
    {
     "name": "stdout",
     "output_type": "stream",
     "text": [
      "Loss: 2.358927, Train accuracy: 0.200000, val accuracy: 0.066667\n",
      "Loss: 2.297174, Train accuracy: 0.200000, val accuracy: 0.066667\n",
      "Loss: 2.199254, Train accuracy: 0.266667, val accuracy: 0.066667\n",
      "Loss: 2.351908, Train accuracy: 0.266667, val accuracy: 0.000000\n",
      "Loss: 2.138689, Train accuracy: 0.400000, val accuracy: 0.000000\n",
      "Loss: 2.241398, Train accuracy: 0.400000, val accuracy: 0.000000\n",
      "Loss: 1.455596, Train accuracy: 0.400000, val accuracy: 0.000000\n",
      "Loss: 1.448811, Train accuracy: 0.466667, val accuracy: 0.000000\n",
      "Loss: 1.674330, Train accuracy: 0.466667, val accuracy: 0.000000\n",
      "Loss: 1.380557, Train accuracy: 0.400000, val accuracy: 0.000000\n",
      "Loss: 1.524056, Train accuracy: 0.466667, val accuracy: 0.000000\n",
      "Loss: 1.664383, Train accuracy: 0.533333, val accuracy: 0.000000\n",
      "Loss: 1.547450, Train accuracy: 0.533333, val accuracy: 0.000000\n",
      "Loss: 1.794625, Train accuracy: 0.733333, val accuracy: 0.066667\n",
      "Loss: 1.633323, Train accuracy: 0.733333, val accuracy: 0.000000\n",
      "Loss: 1.167038, Train accuracy: 0.733333, val accuracy: 0.066667\n",
      "Loss: 1.908840, Train accuracy: 0.800000, val accuracy: 0.000000\n",
      "Loss: 1.143761, Train accuracy: 0.800000, val accuracy: 0.066667\n",
      "Loss: 1.337362, Train accuracy: 0.800000, val accuracy: 0.000000\n",
      "Loss: 1.086297, Train accuracy: 0.800000, val accuracy: 0.000000\n",
      "Loss: 1.616316, Train accuracy: 0.733333, val accuracy: 0.000000\n",
      "Loss: 1.116172, Train accuracy: 0.800000, val accuracy: 0.066667\n",
      "Loss: 1.368201, Train accuracy: 0.800000, val accuracy: 0.000000\n",
      "Loss: 1.602783, Train accuracy: 0.733333, val accuracy: 0.000000\n",
      "Loss: 1.171406, Train accuracy: 0.933333, val accuracy: 0.000000\n",
      "Loss: 1.455189, Train accuracy: 0.866667, val accuracy: 0.066667\n",
      "Loss: 1.150432, Train accuracy: 1.000000, val accuracy: 0.000000\n",
      "Loss: 1.763712, Train accuracy: 1.000000, val accuracy: 0.000000\n",
      "Loss: 1.502575, Train accuracy: 1.000000, val accuracy: 0.066667\n",
      "Loss: 1.216495, Train accuracy: 1.000000, val accuracy: 0.000000\n",
      "Loss: 1.361348, Train accuracy: 0.933333, val accuracy: 0.000000\n",
      "Loss: 1.291988, Train accuracy: 1.000000, val accuracy: 0.000000\n",
      "Loss: 1.235063, Train accuracy: 1.000000, val accuracy: 0.066667\n",
      "Loss: 1.535601, Train accuracy: 0.933333, val accuracy: 0.000000\n",
      "Loss: 1.156344, Train accuracy: 1.000000, val accuracy: 0.000000\n",
      "Loss: 1.393684, Train accuracy: 1.000000, val accuracy: 0.000000\n",
      "Loss: 1.331627, Train accuracy: 1.000000, val accuracy: 0.000000\n",
      "Loss: 1.283423, Train accuracy: 0.933333, val accuracy: 0.000000\n",
      "Loss: 1.414935, Train accuracy: 0.866667, val accuracy: 0.066667\n",
      "Loss: 1.452162, Train accuracy: 0.933333, val accuracy: 0.000000\n",
      "Loss: 1.839967, Train accuracy: 0.933333, val accuracy: 0.000000\n",
      "Loss: 1.403402, Train accuracy: 0.933333, val accuracy: 0.066667\n",
      "Loss: 1.384651, Train accuracy: 0.866667, val accuracy: 0.000000\n",
      "Loss: 1.920158, Train accuracy: 1.000000, val accuracy: 0.000000\n",
      "Loss: 1.147715, Train accuracy: 0.866667, val accuracy: 0.066667\n",
      "Loss: 1.279609, Train accuracy: 1.000000, val accuracy: 0.000000\n",
      "Loss: 1.093529, Train accuracy: 1.000000, val accuracy: 0.000000\n",
      "Loss: 1.379812, Train accuracy: 1.000000, val accuracy: 0.000000\n",
      "Loss: 1.227822, Train accuracy: 1.000000, val accuracy: 0.066667\n",
      "Loss: 1.210107, Train accuracy: 1.000000, val accuracy: 0.000000\n",
      "Loss: 1.602696, Train accuracy: 1.000000, val accuracy: 0.000000\n",
      "Loss: 1.185690, Train accuracy: 0.933333, val accuracy: 0.000000\n",
      "Loss: 1.288340, Train accuracy: 0.933333, val accuracy: 0.000000\n",
      "Loss: 1.367977, Train accuracy: 1.000000, val accuracy: 0.000000\n",
      "Loss: 1.190121, Train accuracy: 1.000000, val accuracy: 0.000000\n",
      "Loss: 1.324967, Train accuracy: 1.000000, val accuracy: 0.000000\n",
      "Loss: 1.760686, Train accuracy: 1.000000, val accuracy: 0.000000\n",
      "Loss: 1.896540, Train accuracy: 0.933333, val accuracy: 0.000000\n",
      "Loss: 2.797639, Train accuracy: 0.933333, val accuracy: 0.000000\n",
      "Loss: 1.857482, Train accuracy: 0.933333, val accuracy: 0.000000\n",
      "Loss: 1.895463, Train accuracy: 1.000000, val accuracy: 0.066667\n",
      "Loss: 1.435335, Train accuracy: 1.000000, val accuracy: 0.000000\n",
      "Loss: 1.392933, Train accuracy: 0.933333, val accuracy: 0.066667\n",
      "Loss: 1.536751, Train accuracy: 0.933333, val accuracy: 0.000000\n",
      "Loss: 1.455559, Train accuracy: 1.000000, val accuracy: 0.000000\n",
      "Loss: 1.113044, Train accuracy: 1.000000, val accuracy: 0.000000\n",
      "Loss: 1.102612, Train accuracy: 1.000000, val accuracy: 0.000000\n",
      "Loss: 1.069575, Train accuracy: 1.000000, val accuracy: 0.000000\n",
      "Loss: 1.305269, Train accuracy: 1.000000, val accuracy: 0.066667\n",
      "Loss: 1.327408, Train accuracy: 1.000000, val accuracy: 0.000000\n",
      "Loss: 1.208453, Train accuracy: 1.000000, val accuracy: 0.066667\n",
      "Loss: 1.073088, Train accuracy: 1.000000, val accuracy: 0.000000\n",
      "Loss: 1.352403, Train accuracy: 1.000000, val accuracy: 0.000000\n",
      "Loss: 1.470112, Train accuracy: 1.000000, val accuracy: 0.000000\n",
      "Loss: 1.770831, Train accuracy: 1.000000, val accuracy: 0.000000\n",
      "Loss: 1.593408, Train accuracy: 1.000000, val accuracy: 0.066667\n",
      "Loss: 1.410794, Train accuracy: 0.933333, val accuracy: 0.000000\n",
      "Loss: 2.367438, Train accuracy: 1.000000, val accuracy: 0.000000\n",
      "Loss: 1.112902, Train accuracy: 0.866667, val accuracy: 0.066667\n",
      "Loss: 1.517130, Train accuracy: 0.866667, val accuracy: 0.000000\n",
      "Loss: 1.460960, Train accuracy: 1.000000, val accuracy: 0.000000\n",
      "Loss: 2.666906, Train accuracy: 1.000000, val accuracy: 0.066667\n",
      "Loss: 1.544927, Train accuracy: 0.933333, val accuracy: 0.000000\n",
      "Loss: 1.377312, Train accuracy: 1.000000, val accuracy: 0.000000\n",
      "Loss: 1.412403, Train accuracy: 1.000000, val accuracy: 0.000000\n",
      "Loss: 1.235491, Train accuracy: 1.000000, val accuracy: 0.000000\n",
      "Loss: 1.058602, Train accuracy: 1.000000, val accuracy: 0.066667\n",
      "Loss: 1.162891, Train accuracy: 1.000000, val accuracy: 0.000000\n",
      "Loss: 1.721776, Train accuracy: 1.000000, val accuracy: 0.000000\n",
      "Loss: 1.254905, Train accuracy: 1.000000, val accuracy: 0.066667\n",
      "Loss: 1.179877, Train accuracy: 1.000000, val accuracy: 0.000000\n",
      "Loss: 1.161497, Train accuracy: 1.000000, val accuracy: 0.066667\n",
      "Loss: 1.350388, Train accuracy: 1.000000, val accuracy: 0.000000\n",
      "Loss: 1.081264, Train accuracy: 1.000000, val accuracy: 0.000000\n",
      "Loss: 1.293691, Train accuracy: 1.000000, val accuracy: 0.066667\n",
      "Loss: 1.261708, Train accuracy: 1.000000, val accuracy: 0.000000\n",
      "Loss: 1.661138, Train accuracy: 1.000000, val accuracy: 0.000000\n",
      "Loss: 1.658603, Train accuracy: 0.866667, val accuracy: 0.066667\n",
      "Loss: 1.056431, Train accuracy: 1.000000, val accuracy: 0.000000\n",
      "Loss: 1.263564, Train accuracy: 1.000000, val accuracy: 0.000000\n",
      "Loss: 1.587934, Train accuracy: 1.000000, val accuracy: 0.000000\n",
      "Loss: 1.198365, Train accuracy: 1.000000, val accuracy: 0.000000\n",
      "Loss: 1.284384, Train accuracy: 1.000000, val accuracy: 0.066667\n",
      "Loss: 1.099121, Train accuracy: 1.000000, val accuracy: 0.000000\n",
      "Loss: 1.336536, Train accuracy: 1.000000, val accuracy: 0.000000\n",
      "Loss: 1.030839, Train accuracy: 1.000000, val accuracy: 0.000000\n",
      "Loss: 1.284761, Train accuracy: 1.000000, val accuracy: 0.000000\n",
      "Loss: 1.220902, Train accuracy: 1.000000, val accuracy: 0.000000\n",
      "Loss: 1.142701, Train accuracy: 1.000000, val accuracy: 0.000000\n",
      "Loss: 1.161559, Train accuracy: 1.000000, val accuracy: 0.066667\n",
      "Loss: 1.226657, Train accuracy: 1.000000, val accuracy: 0.000000\n",
      "Loss: 1.232841, Train accuracy: 1.000000, val accuracy: 0.000000\n",
      "Loss: 1.399392, Train accuracy: 1.000000, val accuracy: 0.000000\n",
      "Loss: 1.878196, Train accuracy: 1.000000, val accuracy: 0.066667\n",
      "Loss: 1.114987, Train accuracy: 1.000000, val accuracy: 0.000000\n",
      "Loss: 1.421561, Train accuracy: 1.000000, val accuracy: 0.000000\n",
      "Loss: 1.530293, Train accuracy: 1.000000, val accuracy: 0.000000\n",
      "Loss: 1.310207, Train accuracy: 1.000000, val accuracy: 0.000000\n",
      "Loss: 1.269311, Train accuracy: 1.000000, val accuracy: 0.066667\n",
      "Loss: 1.262000, Train accuracy: 0.933333, val accuracy: 0.000000\n",
      "Loss: 1.183379, Train accuracy: 1.000000, val accuracy: 0.000000\n",
      "Loss: 1.336801, Train accuracy: 1.000000, val accuracy: 0.000000\n",
      "Loss: 1.177450, Train accuracy: 1.000000, val accuracy: 0.066667\n",
      "Loss: 1.156721, Train accuracy: 1.000000, val accuracy: 0.000000\n",
      "Loss: 1.147023, Train accuracy: 1.000000, val accuracy: 0.066667\n",
      "Loss: 1.262475, Train accuracy: 1.000000, val accuracy: 0.000000\n"
     ]
    },
    {
     "name": "stdout",
     "output_type": "stream",
     "text": [
      "Loss: 1.130968, Train accuracy: 1.000000, val accuracy: 0.066667\n",
      "Loss: 1.093457, Train accuracy: 1.000000, val accuracy: 0.000000\n",
      "Loss: 1.059147, Train accuracy: 1.000000, val accuracy: 0.000000\n",
      "Loss: 1.393860, Train accuracy: 1.000000, val accuracy: 0.000000\n",
      "Loss: 1.448708, Train accuracy: 1.000000, val accuracy: 0.000000\n",
      "Loss: 1.226422, Train accuracy: 1.000000, val accuracy: 0.000000\n",
      "Loss: 1.146455, Train accuracy: 1.000000, val accuracy: 0.000000\n",
      "Loss: 1.297220, Train accuracy: 1.000000, val accuracy: 0.000000\n",
      "Loss: 1.133366, Train accuracy: 0.866667, val accuracy: 0.000000\n",
      "Loss: 1.845380, Train accuracy: 1.000000, val accuracy: 0.066667\n",
      "Loss: 1.118356, Train accuracy: 1.000000, val accuracy: 0.000000\n",
      "Loss: 1.187415, Train accuracy: 1.000000, val accuracy: 0.000000\n",
      "Loss: 1.318082, Train accuracy: 1.000000, val accuracy: 0.000000\n",
      "Loss: 1.118062, Train accuracy: 1.000000, val accuracy: 0.000000\n",
      "Loss: 1.236742, Train accuracy: 1.000000, val accuracy: 0.066667\n",
      "Loss: 1.322334, Train accuracy: 1.000000, val accuracy: 0.066667\n",
      "Loss: 1.243745, Train accuracy: 1.000000, val accuracy: 0.000000\n",
      "Loss: 1.208777, Train accuracy: 1.000000, val accuracy: 0.066667\n",
      "Loss: 1.111634, Train accuracy: 1.000000, val accuracy: 0.000000\n",
      "Loss: 1.246582, Train accuracy: 1.000000, val accuracy: 0.000000\n",
      "Loss: 1.293084, Train accuracy: 1.000000, val accuracy: 0.000000\n",
      "Loss: 1.267551, Train accuracy: 1.000000, val accuracy: 0.000000\n",
      "Loss: 1.248895, Train accuracy: 1.000000, val accuracy: 0.066667\n",
      "Loss: 1.470635, Train accuracy: 1.000000, val accuracy: 0.000000\n"
     ]
    }
   ],
   "source": [
    "data_size = 15\n",
    "model = TwoLayerNet(n_input = train_X.shape[1], n_output = 10, hidden_layer_size = 100, reg = 1e-1)\n",
    "dataset = Dataset(train_X[:data_size], train_y[:data_size], val_X[:data_size], val_y[:data_size])\n",
    "trainer = Trainer(model, dataset, MomentumSGD(0.8), learning_rate=1e-1, num_epochs=150, batch_size=5)\n",
    "\n",
    "# You should expect this to reach 1.0 training accuracy \n",
    "loss_history, train_history, val_history = trainer.fit()"
   ]
  },
  {
   "cell_type": "code",
   "execution_count": 24,
   "metadata": {},
   "outputs": [
    {
     "data": {
      "text/plain": [
       "[<matplotlib.lines.Line2D at 0x1e8df743100>]"
      ]
     },
     "execution_count": 24,
     "metadata": {},
     "output_type": "execute_result"
    },
    {
     "data": {
      "image/png": "[encoded data removed]",
      "text/plain": [
       "<Figure size 432x288 with 1 Axes>"
      ]
     },
     "metadata": {
      "needs_background": "light"
     },
     "output_type": "display_data"
    }
   ],
   "source": [
    "plt.plot(loss_history)"
   ]
  },
  {
   "cell_type": "code",
   "execution_count": 25,
   "metadata": {},
   "outputs": [
    {
     "data": {
      "text/plain": [
       "[<matplotlib.lines.Line2D at 0x1e8df797c70>]"
      ]
     },
     "execution_count": 25,
     "metadata": {},
     "output_type": "execute_result"
    },
    {
     "data": {
      "image/png": "[encoded data removed]",
      "text/plain": [
       "<Figure size 432x288 with 1 Axes>"
      ]
     },
     "metadata": {
      "needs_background": "light"
     },
     "output_type": "display_data"
    }
   ],
   "source": [
    "plt.plot(train_history)\n",
    "plt.plot(val_history)"
   ]
  },
  {
   "cell_type": "markdown",
   "metadata": {},
   "source": [
    "Теперь найдем гипепараметры, для которых этот процесс сходится быстрее.\n",
    "Если все реализовано корректно, то существуют параметры, при которых процесс сходится в **20** эпох или еще быстрее.\n",
    "Найдите их!"
   ]
  },
  {
   "cell_type": "code",
   "execution_count": 26,
   "metadata": {},
   "outputs": [
    {
     "name": "stdout",
     "output_type": "stream",
     "text": [
      "Loss: 2.323962, Train accuracy: 0.200000, val accuracy: 0.066667\n",
      "Loss: 2.249070, Train accuracy: 0.200000, val accuracy: 0.133333\n",
      "Loss: 1.717791, Train accuracy: 0.333333, val accuracy: 0.066667\n",
      "Loss: 2.698562, Train accuracy: 0.400000, val accuracy: 0.000000\n",
      "Loss: 2.308833, Train accuracy: 0.266667, val accuracy: 0.200000\n",
      "Loss: 3.838056, Train accuracy: 0.266667, val accuracy: 0.066667\n",
      "Loss: 3.220598, Train accuracy: 0.266667, val accuracy: 0.000000\n",
      "Loss: 4.261522, Train accuracy: 0.333333, val accuracy: 0.000000\n",
      "Loss: 2.850922, Train accuracy: 0.266667, val accuracy: 0.133333\n",
      "Loss: 8.409661, Train accuracy: 0.400000, val accuracy: 0.066667\n",
      "Loss: 7.726522, Train accuracy: 0.333333, val accuracy: 0.066667\n",
      "Loss: 2.565855, Train accuracy: 0.733333, val accuracy: 0.000000\n",
      "Loss: 3.820199, Train accuracy: 0.733333, val accuracy: 0.066667\n",
      "Loss: 1.962698, Train accuracy: 0.933333, val accuracy: 0.066667\n",
      "Loss: 2.146364, Train accuracy: 0.866667, val accuracy: 0.066667\n",
      "Loss: 1.907788, Train accuracy: 0.800000, val accuracy: 0.066667\n",
      "Loss: 2.001708, Train accuracy: 0.866667, val accuracy: 0.066667\n",
      "Loss: 4.228248, Train accuracy: 0.800000, val accuracy: 0.133333\n",
      "Loss: 1.410750, Train accuracy: 0.933333, val accuracy: 0.066667\n",
      "Loss: 1.153476, Train accuracy: 0.866667, val accuracy: 0.000000\n"
     ]
    }
   ],
   "source": [
    "# Now, tweak some hyper parameters and make it train to 1.0 accuracy in 20 epochs or less\n",
    "\n",
    "model = TwoLayerNet(n_input = train_X.shape[1], n_output = 10, hidden_layer_size = 100, reg = 0.099)\n",
    "dataset = Dataset(train_X[:data_size], train_y[:data_size], val_X[:data_size], val_y[:data_size])\n",
    "# TODO: Change any hyperparamers or optimizators to reach training accuracy in 20 epochs\n",
    "trainer = Trainer(model, dataset, MomentumSGD(0.9), learning_rate=0.1, learning_rate_decay=0.9, num_epochs=20, batch_size=3)\n",
    "\n",
    "loss_history, train_history, val_history = trainer.fit()"
   ]
  },
  {
   "cell_type": "markdown",
   "metadata": {},
   "source": [
    "# Итак, основное мероприятие!\n",
    "\n",
    "Натренируйте лучшую нейросеть! Можно добавлять и изменять параметры, менять количество нейронов в слоях сети и как угодно экспериментировать. \n",
    "\n",
    "Добейтесь точности лучше **60%** на validation set."
   ]
  },
  {
   "cell_type": "code",
   "execution_count": 27,
   "metadata": {},
   "outputs": [
    {
     "data": {
      "text/plain": [
       "15"
      ]
     },
     "execution_count": 27,
     "metadata": {},
     "output_type": "execute_result"
    }
   ],
   "source": [
    "data_size"
   ]
  },
  {
   "cell_type": "code",
   "execution_count": 28,
   "metadata": {
    "scrolled": true
   },
   "outputs": [
    {
     "name": "stdout",
     "output_type": "stream",
     "text": [
      "Loss: 2.317265, Train accuracy: 0.196667, val accuracy: 0.206000\n",
      "Loss: 2.120320, Train accuracy: 0.196667, val accuracy: 0.206000\n",
      "Loss: 2.360854, Train accuracy: 0.196667, val accuracy: 0.206000\n",
      "Loss: 2.233196, Train accuracy: 0.196667, val accuracy: 0.206000\n",
      "Loss: 2.152711, Train accuracy: 0.196667, val accuracy: 0.206000\n",
      "Loss: 2.336288, Train accuracy: 0.196667, val accuracy: 0.206000\n",
      "Loss: 2.294464, Train accuracy: 0.196667, val accuracy: 0.206000\n",
      "Loss: 2.311568, Train accuracy: 0.196667, val accuracy: 0.206000\n",
      "Loss: 2.137975, Train accuracy: 0.196667, val accuracy: 0.206000\n",
      "Loss: 2.252229, Train accuracy: 0.196667, val accuracy: 0.206000\n",
      "Loss: 2.302206, Train accuracy: 0.196667, val accuracy: 0.206000\n",
      "Loss: 2.321105, Train accuracy: 0.196667, val accuracy: 0.206000\n",
      "Loss: 2.379202, Train accuracy: 0.216889, val accuracy: 0.222000\n",
      "Loss: 2.001821, Train accuracy: 0.238778, val accuracy: 0.245000\n",
      "Loss: 1.994850, Train accuracy: 0.252889, val accuracy: 0.251000\n",
      "Loss: 2.203878, Train accuracy: 0.262889, val accuracy: 0.260000\n",
      "Loss: 2.094589, Train accuracy: 0.268333, val accuracy: 0.267000\n",
      "Loss: 2.124392, Train accuracy: 0.276333, val accuracy: 0.275000\n",
      "Loss: 1.986120, Train accuracy: 0.275222, val accuracy: 0.276000\n",
      "Loss: 1.929048, Train accuracy: 0.284889, val accuracy: 0.290000\n",
      "Loss: 2.033069, Train accuracy: 0.298889, val accuracy: 0.302000\n",
      "Loss: 2.135981, Train accuracy: 0.317556, val accuracy: 0.321000\n",
      "Loss: 2.014167, Train accuracy: 0.337889, val accuracy: 0.331000\n",
      "Loss: 2.117702, Train accuracy: 0.355667, val accuracy: 0.361000\n",
      "Loss: 2.119468, Train accuracy: 0.373889, val accuracy: 0.367000\n",
      "Loss: 1.764018, Train accuracy: 0.384556, val accuracy: 0.382000\n",
      "Loss: 2.067834, Train accuracy: 0.406778, val accuracy: 0.402000\n",
      "Loss: 1.922618, Train accuracy: 0.412222, val accuracy: 0.408000\n",
      "Loss: 1.834418, Train accuracy: 0.424444, val accuracy: 0.407000\n",
      "Loss: 1.886927, Train accuracy: 0.436444, val accuracy: 0.419000\n",
      "Loss: 1.794658, Train accuracy: 0.447000, val accuracy: 0.439000\n",
      "Loss: 1.565122, Train accuracy: 0.453556, val accuracy: 0.443000\n",
      "Loss: 1.262595, Train accuracy: 0.463556, val accuracy: 0.455000\n",
      "Loss: 1.785007, Train accuracy: 0.472333, val accuracy: 0.455000\n",
      "Loss: 1.669183, Train accuracy: 0.478889, val accuracy: 0.463000\n",
      "Loss: 1.808443, Train accuracy: 0.490222, val accuracy: 0.479000\n",
      "Loss: 2.009638, Train accuracy: 0.496444, val accuracy: 0.485000\n",
      "Loss: 1.446293, Train accuracy: 0.508667, val accuracy: 0.503000\n",
      "Loss: 1.916782, Train accuracy: 0.516000, val accuracy: 0.504000\n",
      "Loss: 1.736103, Train accuracy: 0.521889, val accuracy: 0.507000\n",
      "Loss: 2.187957, Train accuracy: 0.531222, val accuracy: 0.529000\n",
      "Loss: 1.686956, Train accuracy: 0.534778, val accuracy: 0.532000\n",
      "Loss: 1.850191, Train accuracy: 0.549667, val accuracy: 0.554000\n",
      "Loss: 1.608828, Train accuracy: 0.554778, val accuracy: 0.549000\n",
      "Loss: 1.588911, Train accuracy: 0.566778, val accuracy: 0.566000\n",
      "Loss: 1.480380, Train accuracy: 0.567111, val accuracy: 0.567000\n",
      "Loss: 1.394089, Train accuracy: 0.577444, val accuracy: 0.583000\n",
      "Loss: 1.721124, Train accuracy: 0.582667, val accuracy: 0.580000\n",
      "Loss: 1.591878, Train accuracy: 0.585778, val accuracy: 0.584000\n",
      "Loss: 1.782236, Train accuracy: 0.595222, val accuracy: 0.597000\n",
      "Loss: 1.479722, Train accuracy: 0.605000, val accuracy: 0.598000\n",
      "Loss: 1.454303, Train accuracy: 0.600667, val accuracy: 0.607000\n",
      "Loss: 1.554886, Train accuracy: 0.609667, val accuracy: 0.611000\n",
      "Loss: 1.803044, Train accuracy: 0.610556, val accuracy: 0.618000\n",
      "Loss: 1.526423, Train accuracy: 0.613333, val accuracy: 0.619000\n",
      "Loss: 1.959759, Train accuracy: 0.619333, val accuracy: 0.618000\n",
      "Loss: 1.732827, Train accuracy: 0.625778, val accuracy: 0.628000\n",
      "Loss: 1.598902, Train accuracy: 0.628000, val accuracy: 0.629000\n",
      "Loss: 1.892454, Train accuracy: 0.630889, val accuracy: 0.628000\n",
      "Loss: 1.509905, Train accuracy: 0.631778, val accuracy: 0.626000\n",
      "Loss: 1.646695, Train accuracy: 0.636000, val accuracy: 0.637000\n",
      "Loss: 1.603669, Train accuracy: 0.635778, val accuracy: 0.641000\n",
      "Loss: 1.501505, Train accuracy: 0.642889, val accuracy: 0.637000\n",
      "Loss: 1.646913, Train accuracy: 0.649000, val accuracy: 0.644000\n",
      "Loss: 1.578277, Train accuracy: 0.648778, val accuracy: 0.646000\n",
      "Loss: 1.208516, Train accuracy: 0.650778, val accuracy: 0.646000\n",
      "Loss: 1.433310, Train accuracy: 0.658000, val accuracy: 0.645000\n",
      "Loss: 1.658180, Train accuracy: 0.657444, val accuracy: 0.648000\n",
      "Loss: 1.909497, Train accuracy: 0.660556, val accuracy: 0.649000\n",
      "Loss: 1.888816, Train accuracy: 0.661000, val accuracy: 0.655000\n",
      "Loss: 1.533946, Train accuracy: 0.662667, val accuracy: 0.644000\n",
      "Loss: 1.500690, Train accuracy: 0.668889, val accuracy: 0.655000\n",
      "Loss: 1.503545, Train accuracy: 0.666444, val accuracy: 0.657000\n",
      "Loss: 1.435390, Train accuracy: 0.668111, val accuracy: 0.669000\n",
      "Loss: 1.585142, Train accuracy: 0.673111, val accuracy: 0.665000\n",
      "Loss: 1.239409, Train accuracy: 0.676333, val accuracy: 0.672000\n",
      "Loss: 1.325262, Train accuracy: 0.676222, val accuracy: 0.660000\n",
      "Loss: 1.490325, Train accuracy: 0.678556, val accuracy: 0.673000\n",
      "Loss: 1.180583, Train accuracy: 0.682889, val accuracy: 0.670000\n",
      "Loss: 1.758177, Train accuracy: 0.679778, val accuracy: 0.664000\n",
      "Loss: 1.343388, Train accuracy: 0.681556, val accuracy: 0.671000\n",
      "Loss: 1.384787, Train accuracy: 0.683889, val accuracy: 0.683000\n",
      "Loss: 1.436521, Train accuracy: 0.684778, val accuracy: 0.681000\n",
      "Loss: 1.242259, Train accuracy: 0.687889, val accuracy: 0.677000\n",
      "Loss: 1.604916, Train accuracy: 0.691667, val accuracy: 0.687000\n",
      "Loss: 1.325916, Train accuracy: 0.691222, val accuracy: 0.688000\n",
      "Loss: 1.258479, Train accuracy: 0.692889, val accuracy: 0.684000\n",
      "Loss: 1.191785, Train accuracy: 0.695333, val accuracy: 0.683000\n",
      "Loss: 1.682562, Train accuracy: 0.694667, val accuracy: 0.679000\n",
      "Loss: 1.247862, Train accuracy: 0.693667, val accuracy: 0.680000\n",
      "Loss: 1.193366, Train accuracy: 0.696444, val accuracy: 0.680000\n",
      "Loss: 1.541455, Train accuracy: 0.699667, val accuracy: 0.685000\n",
      "Loss: 1.236121, Train accuracy: 0.701222, val accuracy: 0.683000\n",
      "Loss: 1.065280, Train accuracy: 0.700778, val accuracy: 0.676000\n",
      "Loss: 1.406958, Train accuracy: 0.699667, val accuracy: 0.695000\n",
      "Loss: 1.403800, Train accuracy: 0.704889, val accuracy: 0.692000\n",
      "Loss: 1.340271, Train accuracy: 0.706222, val accuracy: 0.687000\n",
      "Loss: 1.569271, Train accuracy: 0.708444, val accuracy: 0.693000\n",
      "Loss: 1.395560, Train accuracy: 0.706222, val accuracy: 0.687000\n",
      "Loss: 1.191238, Train accuracy: 0.705111, val accuracy: 0.691000\n",
      "Loss: 1.320578, Train accuracy: 0.709444, val accuracy: 0.695000\n",
      "Loss: 1.793057, Train accuracy: 0.706333, val accuracy: 0.692000\n",
      "Loss: 1.617621, Train accuracy: 0.710222, val accuracy: 0.691000\n",
      "Loss: 1.516042, Train accuracy: 0.712889, val accuracy: 0.697000\n",
      "Loss: 1.497954, Train accuracy: 0.709778, val accuracy: 0.700000\n",
      "Loss: 1.301255, Train accuracy: 0.711667, val accuracy: 0.702000\n",
      "Loss: 1.422330, Train accuracy: 0.713667, val accuracy: 0.699000\n",
      "Loss: 1.668610, Train accuracy: 0.713444, val accuracy: 0.697000\n",
      "Loss: 1.467668, Train accuracy: 0.712889, val accuracy: 0.695000\n",
      "Loss: 1.602605, Train accuracy: 0.715444, val accuracy: 0.694000\n",
      "Loss: 1.269109, Train accuracy: 0.716333, val accuracy: 0.699000\n",
      "Loss: 1.510734, Train accuracy: 0.716222, val accuracy: 0.702000\n",
      "Loss: 1.302184, Train accuracy: 0.717556, val accuracy: 0.702000\n",
      "Loss: 1.307831, Train accuracy: 0.717000, val accuracy: 0.700000\n",
      "Loss: 1.360248, Train accuracy: 0.715000, val accuracy: 0.697000\n",
      "Loss: 1.478898, Train accuracy: 0.721333, val accuracy: 0.701000\n",
      "Loss: 1.116672, Train accuracy: 0.721778, val accuracy: 0.698000\n",
      "Loss: 1.144797, Train accuracy: 0.721556, val accuracy: 0.694000\n",
      "Loss: 0.843495, Train accuracy: 0.721333, val accuracy: 0.698000\n",
      "Loss: 1.114104, Train accuracy: 0.723222, val accuracy: 0.698000\n",
      "Loss: 1.210442, Train accuracy: 0.722111, val accuracy: 0.697000\n",
      "Loss: 1.204084, Train accuracy: 0.722222, val accuracy: 0.701000\n",
      "Loss: 1.550813, Train accuracy: 0.722889, val accuracy: 0.702000\n",
      "Loss: 1.500204, Train accuracy: 0.726333, val accuracy: 0.703000\n",
      "Loss: 1.350323, Train accuracy: 0.726889, val accuracy: 0.698000\n",
      "Loss: 1.246919, Train accuracy: 0.725556, val accuracy: 0.705000\n",
      "Loss: 0.775364, Train accuracy: 0.726778, val accuracy: 0.700000\n"
     ]
    },
    {
     "name": "stdout",
     "output_type": "stream",
     "text": [
      "Loss: 1.249037, Train accuracy: 0.726556, val accuracy: 0.712000\n",
      "Loss: 1.444075, Train accuracy: 0.729667, val accuracy: 0.705000\n",
      "Loss: 1.198470, Train accuracy: 0.728889, val accuracy: 0.706000\n",
      "Loss: 0.983239, Train accuracy: 0.732111, val accuracy: 0.703000\n",
      "Loss: 1.433235, Train accuracy: 0.732556, val accuracy: 0.706000\n",
      "Loss: 1.312031, Train accuracy: 0.731444, val accuracy: 0.704000\n",
      "Loss: 1.398053, Train accuracy: 0.732444, val accuracy: 0.711000\n",
      "Loss: 1.197801, Train accuracy: 0.732111, val accuracy: 0.707000\n",
      "Loss: 0.914660, Train accuracy: 0.733556, val accuracy: 0.704000\n",
      "Loss: 1.343147, Train accuracy: 0.733444, val accuracy: 0.710000\n",
      "Loss: 0.996848, Train accuracy: 0.735889, val accuracy: 0.706000\n",
      "Loss: 1.084758, Train accuracy: 0.734667, val accuracy: 0.709000\n",
      "Loss: 1.087854, Train accuracy: 0.738000, val accuracy: 0.715000\n",
      "Loss: 1.141516, Train accuracy: 0.735667, val accuracy: 0.707000\n",
      "Loss: 1.172964, Train accuracy: 0.738889, val accuracy: 0.708000\n",
      "Loss: 1.170491, Train accuracy: 0.738778, val accuracy: 0.705000\n",
      "Loss: 1.316744, Train accuracy: 0.738111, val accuracy: 0.713000\n",
      "Loss: 1.348882, Train accuracy: 0.742222, val accuracy: 0.711000\n",
      "Loss: 1.120720, Train accuracy: 0.740778, val accuracy: 0.717000\n",
      "Loss: 0.880866, Train accuracy: 0.742889, val accuracy: 0.709000\n",
      "Loss: 1.294273, Train accuracy: 0.742778, val accuracy: 0.715000\n",
      "Loss: 1.072450, Train accuracy: 0.742333, val accuracy: 0.712000\n",
      "Loss: 1.048508, Train accuracy: 0.742889, val accuracy: 0.712000\n"
     ]
    }
   ],
   "source": [
    "# Let's train the best one-hidden-layer network we can\n",
    "learning_rate = 1e-2\n",
    "reg_strength =  1e-1\n",
    "learning_rate_decay = 0.999\n",
    "hidden_layer_size = 100\n",
    "num_epochs = 150\n",
    "batch_size = 20\n",
    "\n",
    "\n",
    "model = TwoLayerNet(n_input = train_X.shape[1], n_output = 10, \n",
    "                    hidden_layer_size = hidden_layer_size, \n",
    "                    reg = 1e-1)\n",
    "dataset = Dataset(train_X, train_y, val_X, val_y)\n",
    "trainer = Trainer(model, dataset, SGD(), \n",
    "                  learning_rate = learning_rate,\n",
    "                  learning_rate_decay=0.99,\n",
    "                  num_epochs=num_epochs, \n",
    "                  batch_size=batch_size)\n",
    "\n",
    "loss_history, train_history, val_history = trainer.fit()\n",
    "\n",
    "# TODO find the best hyperparameters to train the network\n",
    "# Don't hesitate to add new values to the arrays above, perform experiments, use any tricks you want\n",
    "# You should expect to get to at least 40% of valudation accuracy\n",
    "# Save loss/train/history of the best classifier to the variables above\n"
   ]
  },
  {
   "cell_type": "code",
   "execution_count": 30,
   "metadata": {},
   "outputs": [
    {
     "name": "stdout",
     "output_type": "stream",
     "text": [
      "best validation accuracy achieved: 0.717000\n"
     ]
    }
   ],
   "source": [
    "best_val_accuracy = np.max(val_history)\n",
    "print('best validation accuracy achieved: %f' % best_val_accuracy)"
   ]
  },
  {
   "cell_type": "code",
   "execution_count": 31,
   "metadata": {},
   "outputs": [
    {
     "data": {
      "text/plain": [
       "[<matplotlib.lines.Line2D at 0x1e8df839370>]"
      ]
     },
     "execution_count": 31,
     "metadata": {},
     "output_type": "execute_result"
    },
    {
     "data": {
      "image/png": "[encoded data removed]",
      "text/plain": [
       "<Figure size 1080x504 with 2 Axes>"
      ]
     },
     "metadata": {
      "needs_background": "light"
     },
     "output_type": "display_data"
    }
   ],
   "source": [
    "plt.figure(figsize=(15, 7))\n",
    "plt.subplot(211)\n",
    "plt.title(\"Loss\")\n",
    "plt.plot(loss_history)\n",
    "plt.subplot(212)\n",
    "plt.title(\"Train/validation accuracy\")\n",
    "plt.plot(train_history)\n",
    "plt.plot(val_history)"
   ]
  },
  {
   "cell_type": "markdown",
   "metadata": {},
   "source": [
    "# Как обычно, посмотрим, как наша лучшая модель работает на тестовых данных"
   ]
  },
  {
   "cell_type": "code",
   "execution_count": 32,
   "metadata": {},
   "outputs": [
    {
     "name": "stdout",
     "output_type": "stream",
     "text": [
      "Neural net test set accuracy: 0.657000\n"
     ]
    }
   ],
   "source": [
    "test_pred = model.predict(test_X)\n",
    "test_accuracy = multiclass_accuracy(test_pred, test_y)\n",
    "print('Neural net test set accuracy: %f' % (test_accuracy, ))"
   ]
  },
  {
   "cell_type": "code",
   "execution_count": null,
   "metadata": {},
   "outputs": [],
   "source": []
  }
 ],
 "metadata": {
  "kernelspec": {
   "display_name": "Python 3",
   "language": "python",
   "name": "python3"
  },
  "language_info": {
   "codemirror_mode": {
    "name": "ipython",
    "version": 3
   },
   "file_extension": ".py",
   "mimetype": "text/x-python",
   "name": "python",
   "nbconvert_exporter": "python",
   "pygments_lexer": "ipython3",
   "version": "3.8.5"
  }
 },
 "nbformat": 4,
 "nbformat_minor": 2
}
